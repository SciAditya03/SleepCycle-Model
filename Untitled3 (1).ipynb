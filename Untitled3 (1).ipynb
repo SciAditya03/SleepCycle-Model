{
  "nbformat": 4,
  "nbformat_minor": 0,
  "metadata": {
    "colab": {
      "provenance": []
    },
    "kernelspec": {
      "name": "python3",
      "display_name": "Python 3"
    },
    "language_info": {
      "name": "python"
    }
  },
  "cells": [
    {
      "cell_type": "code",
      "execution_count": 2,
      "metadata": {
        "id": "IDKpKlYc9Smc"
      },
      "outputs": [],
      "source": [
        "import pandas as pd\n",
        "import numpy as np\n",
        "import matplotlib.pyplot as plt\n",
        "import seaborn as sns\n",
        "\n",
        "from sklearn.model_selection import train_test_split\n",
        "from sklearn.ensemble import RandomForestClassifier\n",
        "from sklearn.metrics import accuracy_score, classification_report\n",
        "from sklearn.model_selection import GridSearchCV"
      ]
    },
    {
      "cell_type": "code",
      "source": [
        "df = pd.read_csv(\"Sleep_health_and_lifestyle_dataset.csv\")\n",
        "\n",
        "# ✅ Drop Unnecessary Columns (If Needed)\n",
        "df.drop(columns=['Person ID', 'Occupation', 'BMI Category', 'Blood Pressure','Daily Steps','Physical Activity Level'], inplace=True, errors='ignore')\n",
        "\n",
        "# ✅ Convert Categorical Columns to Numeric\n",
        "df = pd.get_dummies(df, columns=['Gender', 'Sleep Disorder'], drop_first=True)\n",
        "\n",
        "# ✅ Define Features (X) and Target (y)\n",
        "X = df.drop(columns=['Quality of Sleep'])  # Inputs\n",
        "y = df['Quality of Sleep']  # Target Variable\n"
      ],
      "metadata": {
        "id": "byPGnM0u9uWw"
      },
      "execution_count": 6,
      "outputs": []
    },
    {
      "cell_type": "code",
      "source": [
        "df.columns"
      ],
      "metadata": {
        "colab": {
          "base_uri": "https://localhost:8080/"
        },
        "id": "1lBxBrxfXCgC",
        "outputId": "dd2d8276-1425-4829-e1b6-3dc11549ef1b"
      },
      "execution_count": 7,
      "outputs": [
        {
          "output_type": "execute_result",
          "data": {
            "text/plain": [
              "Index(['Age', 'Sleep Duration', 'Quality of Sleep', 'Stress Level',\n",
              "       'Heart Rate', 'Gender_Male', 'Sleep Disorder_Sleep Apnea'],\n",
              "      dtype='object')"
            ]
          },
          "metadata": {},
          "execution_count": 7
        }
      ]
    },
    {
      "cell_type": "code",
      "source": [
        "X_train, X_test, y_train, y_test = train_test_split(X, y, test_size=0.2, random_state=42)\n",
        "\n",
        "# ✅ Train Random Forest Model (Baseline)\n",
        "rf_model = RandomForestClassifier(random_state=42)\n",
        "rf_model.fit(X_train, y_train)\n",
        "\n",
        "# ✅ Predictions\n",
        "y_pred = rf_model.predict(X_test)\n",
        "\n",
        "# ✅ Evaluate Baseline Model\n",
        "print(\"\\n🎯 Baseline Model Accuracy:\", accuracy_score(y_test, y_pred))\n",
        "print(\"\\n📊 Classification Report:\\n\", classification_report(y_test, y_pred))\n"
      ],
      "metadata": {
        "colab": {
          "base_uri": "https://localhost:8080/"
        },
        "id": "ezLeFBqv9fIO",
        "outputId": "c2e6cc7e-ddc4-472d-8e84-fcec3efd3d98"
      },
      "execution_count": 8,
      "outputs": [
        {
          "output_type": "stream",
          "name": "stdout",
          "text": [
            "\n",
            "🎯 Baseline Model Accuracy: 0.9733333333333334\n",
            "\n",
            "📊 Classification Report:\n",
            "               precision    recall  f1-score   support\n",
            "\n",
            "           4       1.00      1.00      1.00         2\n",
            "           5       1.00      1.00      1.00         1\n",
            "           6       1.00      1.00      1.00        26\n",
            "           7       1.00      0.88      0.93        16\n",
            "           8       0.90      1.00      0.95        18\n",
            "           9       1.00      1.00      1.00        12\n",
            "\n",
            "    accuracy                           0.97        75\n",
            "   macro avg       0.98      0.98      0.98        75\n",
            "weighted avg       0.98      0.97      0.97        75\n",
            "\n"
          ]
        }
      ]
    },
    {
      "cell_type": "code",
      "source": [
        "feature_importance = pd.DataFrame({\"Feature\": X.columns, \"Importance\": rf_model.feature_importances_})\n",
        "feature_importance = feature_importance.sort_values(by=\"Importance\", ascending=False)\n",
        "\n",
        "plt.figure(figsize=(10, 5))\n",
        "sns.barplot(x=feature_importance[\"Importance\"], y=feature_importance[\"Feature\"], palette=\"coolwarm\")\n",
        "plt.title(\"📌 Feature Importance (Baseline Model)\")\n",
        "plt.show()"
      ],
      "metadata": {
        "colab": {
          "base_uri": "https://localhost:8080/",
          "height": 452
        },
        "id": "auB0oLVR9h8n",
        "outputId": "fda35ea1-eef6-41c6-b1c4-876b93175d53"
      },
      "execution_count": 9,
      "outputs": [
        {
          "output_type": "stream",
          "name": "stderr",
          "text": [
            "<ipython-input-9-33c002cd48f1>:5: FutureWarning: \n",
            "\n",
            "Passing `palette` without assigning `hue` is deprecated and will be removed in v0.14.0. Assign the `y` variable to `hue` and set `legend=False` for the same effect.\n",
            "\n",
            "  sns.barplot(x=feature_importance[\"Importance\"], y=feature_importance[\"Feature\"], palette=\"coolwarm\")\n",
            "/usr/local/lib/python3.11/dist-packages/IPython/core/pylabtools.py:151: UserWarning: Glyph 128204 (\\N{PUSHPIN}) missing from font(s) DejaVu Sans.\n",
            "  fig.canvas.print_figure(bytes_io, **kw)\n"
          ]
        },
        {
          "output_type": "display_data",
          "data": {
            "text/plain": [
              "<Figure size 1000x500 with 1 Axes>"
            ],
            "image/png": "[encoded data removed]"
          },
          "metadata": {}
        }
      ]
    },
    {
      "cell_type": "code",
      "source": [
        "\n",
        "# ✅ Train Optimized Model\n",
        "rf_model_tuned = RandomForestClassifier(\n",
        "    n_estimators=200,  # More trees for better accuracy\n",
        "    max_depth=10,      # Deeper trees\n",
        "    min_samples_split=5,  # More robust splits\n",
        "    random_state=42\n",
        ")\n",
        "\n",
        "rf_model_tuned.fit(X_train, y_train)\n",
        "y_pred_tuned = rf_model_tuned.predict(X_test)\n",
        "\n",
        "# ✅ Evaluate Tuned Model\n",
        "print(\"\\n✅ Tuned Model Accuracy:\", accuracy_score(y_test, y_pred_tuned))\n",
        "print(\"\\n📊 Classification Report (Tuned):\\n\", classification_report(y_test, y_pred_tuned))\n",
        "\n",
        "# ✅ Feature Importance Plot (Tuned)\n",
        "feature_importance_tuned = pd.DataFrame({\"Feature\": X.columns, \"Importance\": rf_model_tuned.feature_importances_})\n",
        "feature_importance_tuned = feature_importance_tuned.sort_values(by=\"Importance\", ascending=False)\n"
      ],
      "metadata": {
        "colab": {
          "base_uri": "https://localhost:8080/"
        },
        "id": "FEsadA4zATYj",
        "outputId": "b5434821-b8a3-4364-bd47-904a613691f6"
      },
      "execution_count": 10,
      "outputs": [
        {
          "output_type": "stream",
          "name": "stdout",
          "text": [
            "\n",
            "✅ Tuned Model Accuracy: 0.9733333333333334\n",
            "\n",
            "📊 Classification Report (Tuned):\n",
            "               precision    recall  f1-score   support\n",
            "\n",
            "           4       1.00      1.00      1.00         2\n",
            "           5       1.00      1.00      1.00         1\n",
            "           6       1.00      1.00      1.00        26\n",
            "           7       1.00      0.88      0.93        16\n",
            "           8       0.90      1.00      0.95        18\n",
            "           9       1.00      1.00      1.00        12\n",
            "\n",
            "    accuracy                           0.97        75\n",
            "   macro avg       0.98      0.98      0.98        75\n",
            "weighted avg       0.98      0.97      0.97        75\n",
            "\n"
          ]
        }
      ]
    }
  ]
}